{
 "cells": [
  {
   "cell_type": "code",
   "execution_count": 2,
   "metadata": {},
   "outputs": [],
   "source": [
    "#Open, Plot, and Explore Raster Data with Python \n",
    "#https://www.earthdatascience.org/courses/use-data-open-source-python/intro-raster-data-python/fundamentals-raster-data/open-lidar-raster-python/\n",
    "#Applied to ASO Snow Off data from Tuolumne Meadows (downloaded from Linux Box Storage)\n",
    "\n",
    "# Import necessary packages\n",
    "import os\n",
    "import matplotlib.pyplot as plt\n",
    "import numpy as np\n",
    "import pandas as pd\n",
    "import seaborn as sns\n",
    "# Use geopandas for vector data and rasterio for raster data\n",
    "import geopandas as gpd\n",
    "import rasterio as rio\n",
    "import rioxarray as riox\n",
    "from rasterio.features import shapes\n",
    "# Plotting extent is used to plot raster & vector data together\n",
    "from rasterio.plot import plotting_extent\n",
    "\n",
    "import earthpy as et\n",
    "import earthpy.plot as ep\n",
    "\n",
    "# Prettier plotting with seaborn\n",
    "sns.set(font_scale=1.5, style=\"white\")"
   ]
  },
  {
   "cell_type": "code",
   "execution_count": 3,
   "metadata": {},
   "outputs": [],
   "source": [
    "#set working directory?\n",
    "os.chdir(os.path.join(et.io.HOME, 'Documents', \n",
    "                      'Documents_Grad', \n",
    "                      'Research', \n",
    "                      'ICESat_2'))"
   ]
  },
  {
   "cell_type": "code",
   "execution_count": 4,
   "metadata": {},
   "outputs": [],
   "source": [
    "dem_snow_clip = os.path.join(\"data\",\n",
    "                        \"ASO\",\n",
    "                        \"snow_on\",\n",
    "                        \"ASO_20190417\",\n",
    "                       \"ASO_3M_SD_USCATE_20190417_cut.tif\")"
   ]
  },
  {
   "cell_type": "code",
   "execution_count": 5,
   "metadata": {},
   "outputs": [],
   "source": [
    "dem_land = os.path.join(\"data\",\n",
    "                        \"ASO\",\n",
    "                        \"snow_off\",\n",
    "                        \"ASO_snowoff_linux\",\n",
    "                       \"mcc_dem_3p0m_agg_TUOtrimmed_MANUAL.tif\")"
   ]
  },
  {
   "cell_type": "code",
   "execution_count": 6,
   "metadata": {},
   "outputs": [],
   "source": [
    "#from https://gis.stackexchange.com/questions/187877/how-to-polygonize-raster-to-shapely-polygons/187883\n",
    "mask = None\n",
    "with rio.Env():\n",
    "    with rio.open(dem_land) as dem_land:\n",
    "        image = dem_land.read(1)\n",
    "        results = (\n",
    "        {'properties': {'raster_val': v}, 'geometry': s}\n",
    "        for i, (s,v)\n",
    "        in enumerate(\n",
    "        shapes(image, mask=mask, transform=dem_land.transform)))"
   ]
  },
  {
   "cell_type": "code",
   "execution_count": null,
   "metadata": {},
   "outputs": [],
   "source": [
    "geoms = list(results)\n",
    "print(geoms[0])"
   ]
  },
  {
   "cell_type": "code",
   "execution_count": null,
   "metadata": {},
   "outputs": [],
   "source": [
    "from shapely.geometry import shape\n",
    "print(shape(geoms[0])['geometry'])"
   ]
  },
  {
   "cell_type": "code",
   "execution_count": null,
   "metadata": {},
   "outputs": [],
   "source": [
    "# Process and Open Snow-On Cut Data\n",
    "# Open the file using a context manager (\"with rio.open\" statement)\n",
    "with rio.open(dem_snow_clip) as dem_snow_clip:\n",
    "    dtm_clip_pre_arr = dem_snow_clip.read(1)\n",
    "    dtm_clip_pre_meta = dem_snow_clip.profile\n",
    "    dtm_clip_pre_plot_ext = plotting_extent(dem_snow_clip)\n",
    "    print(dem_snow_clip.crs)\n",
    "#Clean raster by removing zero values\n",
    "dtm_clip_pre_arr[dtm_clip_pre_arr == (-9999.)] = np.nan\n",
    "print(dtm_clip_pre_plot_ext)"
   ]
  }
 ],
 "metadata": {
  "kernelspec": {
   "display_name": "Python 3",
   "language": "python",
   "name": "python3"
  },
  "language_info": {
   "codemirror_mode": {
    "name": "ipython",
    "version": 3
   },
   "file_extension": ".py",
   "mimetype": "text/x-python",
   "name": "python",
   "nbconvert_exporter": "python",
   "pygments_lexer": "ipython3",
   "version": "3.8.10"
  }
 },
 "nbformat": 4,
 "nbformat_minor": 4
}
